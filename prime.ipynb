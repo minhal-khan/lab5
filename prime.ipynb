{
 "cells": [
  {
   "cell_type": "markdown",
   "id": "automated-newman",
   "metadata": {},
   "source": [
    "This is a program that takes in a name and a number, and determines whether the number is prime or not."
   ]
  },
  {
   "cell_type": "code",
   "execution_count": null,
   "id": "governing-studio",
   "metadata": {},
   "outputs": [],
   "source": [
    "# user prompts\n",
    "name = input('Please enter your name.')\n",
    "num = int(input('Please enter a number.'))\n",
    "\n",
    "step = int(num/2)\n",
    "prime = True\n",
    "\n",
    "\n",
    "# prime checking loop\n",
    "while(prime == True):\n",
    "    if step == 1:\n",
    "        prime = True\n",
    "        primestat = 'prime'\n",
    "        break\n",
    "    elif num % step == 0:\n",
    "        prime = False\n",
    "        primestat = 'not prime'\n",
    "        break\n",
    "    else:\n",
    "        step = step - 1\n",
    "\n",
    "# output\n",
    "print(f'Hi {name}, your number {num} is {primestat}!')"
   ]
  },
  {
   "cell_type": "code",
   "execution_count": null,
   "id": "stone-pearl",
   "metadata": {},
   "outputs": [],
   "source": []
  }
 ],
 "metadata": {
  "kernelspec": {
   "display_name": "Python 3",
   "language": "python",
   "name": "python3"
  },
  "language_info": {
   "codemirror_mode": {
    "name": "ipython",
    "version": 3
   },
   "file_extension": ".py",
   "mimetype": "text/x-python",
   "name": "python",
   "nbconvert_exporter": "python",
   "pygments_lexer": "ipython3",
   "version": "3.8.5"
  }
 },
 "nbformat": 4,
 "nbformat_minor": 5
}
