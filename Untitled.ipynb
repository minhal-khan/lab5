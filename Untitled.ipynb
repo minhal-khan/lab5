{
 "cells": [
  {
   "cell_type": "markdown",
   "id": "invalid-linux",
   "metadata": {},
   "source": [
    "This is a program that takes in a name and a number, and determines whether the number is prime or not."
   ]
  },
  {
   "cell_type": "code",
   "execution_count": 6,
   "id": "injured-prefix",
   "metadata": {},
   "outputs": [
    {
     "name": "stdout",
     "output_type": "stream",
     "text": [
      "469\n"
     ]
    }
   ],
   "source": [
    "# prompt the user to input a name as well as an integer\n",
    "num = 1407 # don't forget to change this, I just set this as a number to test the loop\n",
    "step = int(num/2)\n",
    "prime = True\n",
    "\n",
    "while(prime == True):\n",
    "    if step = 1:\n",
    "        prime = True\n",
    "        break\n",
    "    elif num % step == 0:\n",
    "        prime = False\n",
    "        break\n",
    "    else:\n",
    "        step = step - 1\n",
    "\n",
    "print(step) # insert result here along with name, something like \"Hi, [name], your number [number] is prime/not prime\""
   ]
  },
  {
   "cell_type": "code",
   "execution_count": null,
   "id": "answering-video",
   "metadata": {},
   "outputs": [],
   "source": []
  }
 ],
 "metadata": {
  "kernelspec": {
   "display_name": "Python 3",
   "language": "python",
   "name": "python3"
  },
  "language_info": {
   "codemirror_mode": {
    "name": "ipython",
    "version": 3
   },
   "file_extension": ".py",
   "mimetype": "text/x-python",
   "name": "python",
   "nbconvert_exporter": "python",
   "pygments_lexer": "ipython3",
   "version": "3.8.5"
  }
 },
 "nbformat": 4,
 "nbformat_minor": 5
}
